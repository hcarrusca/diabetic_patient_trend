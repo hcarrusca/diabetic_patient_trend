{
  "nbformat": 4,
  "nbformat_minor": 0,
  "metadata": {
    "colab": {
      "provenance": [],
      "toc_visible": true,
      "authorship_tag": "ABX9TyOiakaDYN1VZdNOf2DnELeH",
      "include_colab_link": true
    },
    "kernelspec": {
      "name": "python3",
      "display_name": "Python 3"
    },
    "language_info": {
      "name": "python"
    }
  },
  "cells": [
    {
      "cell_type": "markdown",
      "metadata": {
        "id": "view-in-github",
        "colab_type": "text"
      },
      "source": [
        "<a href=\"https://colab.research.google.com/github/hcarrusca/diabetic_patient_trend/blob/main/U_S_InboundTourism.ipynb\" target=\"_parent\"><img src=\"https://colab.research.google.com/assets/colab-badge.svg\" alt=\"Open In Colab\"/></a>"
      ]
    },
    {
      "cell_type": "markdown",
      "source": [
        "# New Section"
      ],
      "metadata": {
        "id": "ZhUyluBXL6Ar"
      }
    },
    {
      "cell_type": "markdown",
      "source": [
        "Project Steps:\n",
        "1. Data Cleaning & Preparation\n",
        "Focus on data from 2019–2024 (pre-COVID, recovery, future projection).\n",
        "\n",
        "2. Exploratory Data Analysis (EDA)\n",
        "*   Top 10 countries sending travelers to the U.S. in 2023\n",
        "*   Largest drops and recoveries (e.g., compare 2020 to 2022, 2023)\n",
        "*   Breakdown by region: Asia vs. Europe vs. South America\n",
        "*   Time series plot of growth trends\n",
        "\n",
        "3. Prediction / Forecasting Task\n",
        "Use time series modeling (Prophet, ARIMA, or simple regression) to:\n",
        "*   Forecast 2025 tourist arrivals by country\n",
        "*   Predict total inbound tourism growth rate\n",
        "\n",
        "4. Visualization Ideas\n",
        "*  Heatmap of year-over-year % change\n",
        "*  Line charts by top 5 countries.\n",
        "*  Bar chart: 2023 vs. 2024 projections.\n",
        "*  Region-wise pie chart (2023 share of arrivals).\n",
        "\n",
        "5. Bonus Analysis\n",
        "*   Build a simple classification model: Will a country see >20% growth in tourism in 2025? (Yes/No)\n",
        "\n",
        "\n",
        "\n",
        "\n",
        "\n",
        "\n",
        "\n",
        "\n",
        "\n",
        "\n"
      ],
      "metadata": {
        "id": "mfy-rm4785oh"
      }
    },
    {
      "cell_type": "code",
      "execution_count": null,
      "metadata": {
        "id": "A6dH5wya6j6r"
      },
      "outputs": [],
      "source": []
    }
  ]
}